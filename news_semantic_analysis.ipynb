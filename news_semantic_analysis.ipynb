{
 "cells": [
  {
   "cell_type": "code",
   "execution_count": 9,
   "metadata": {},
   "outputs": [],
   "source": [
    "import requests\n",
    "from stocks import *"
   ]
  },
  {
   "cell_type": "code",
   "execution_count": 10,
   "metadata": {},
   "outputs": [
    {
     "name": "stdout",
     "output_type": "stream",
     "text": [
      "Ticker: MMM - 3M Company\n",
      "Ticker: AXP - American Express Company\n",
      "Ticker: MRK - Merck & Co., Inc.\n",
      "Ticker: MCD - McDonald's Corporation\n",
      "Ticker: JNJ - Johnson & Johnson\n",
      "Ticker: KO - The Coca-Cola Company\n",
      "Ticker: NKE - NIKE, Inc.\n",
      "Ticker: PG - The Procter & Gamble Company\n",
      "Ticker: CAT - Caterpillar Inc.\n",
      "Ticker: VZ - Verizon Communications Inc.\n",
      "Ticker: HD - The Home Depot, Inc.\n",
      "Ticker: GS - The Goldman Sachs Group, Inc.\n",
      "Ticker: INTC - Intel Corporation\n",
      "Ticker: DIS - The Walt Disney Company\n",
      "Ticker: TRV - The Travelers Companies, Inc.\n",
      "Ticker: JPM - JPMorgan Chase & Co.\n",
      "Ticker: V - Visa Inc.\n",
      "Ticker: IBM - International Business Machines Corporation\n",
      "Ticker: UNH - UnitedHealth Group Incorporated\n",
      "Ticker: CSCO - Cisco Systems, Inc.\n",
      "Ticker: WMT - Walmart Inc.\n",
      "Ticker: DOW - Dow Inc.\n",
      "Ticker: MSFT - Microsoft Corporation\n",
      "Ticker: WBA - Walgreens Boots Alliance, Inc.\n",
      "Ticker: CVX - Chevron Corporation\n",
      "Ticker: AAPL - Apple Inc.\n",
      "Ticker: PFE - Pfizer Inc.\n",
      "Ticker: RTX - Raytheon Technologies Corporation\n",
      "Ticker: BA - The Boeing Company\n",
      "Ticker: XOM - Exxon Mobil Corporation\n"
     ]
    }
   ],
   "source": [
    "# description:\n",
    "#   function to get company name from ticker symbol using the yahoo finance api. \n",
    "#   https://stackoverflow.com/questions/38967533/retrieve-company-name-with-ticker-symbol-input-yahoo-or-google-api\n",
    "# args:\n",
    "#   symbol - ticker symbol for company\n",
    "# return:\n",
    "#   company_name - company name associated with ticker\n",
    "def get_symbol(symbol):\n",
    "    url = \"http://d.yimg.com/autoc.finance.yahoo.com/autoc?query={}&region=1&lang=en\".format(symbol)\n",
    "\n",
    "    result = requests.get(url).json()\n",
    "\n",
    "    for x in result['ResultSet']['Result']:\n",
    "        if x['symbol'] == symbol:\n",
    "            company_name = x['name']\n",
    "            return company_name\n",
    "\n",
    "tickers = get_dow_tickers()\n",
    "for ticker in tickers:\n",
    "    print(\"Ticker: \" + ticker, end=\" - \")\n",
    "    company = get_symbol(ticker)\n",
    "    print(company)"
   ]
  },
  {
   "cell_type": "code",
   "execution_count": null,
   "metadata": {},
   "outputs": [],
   "source": [
    "# description:\n",
    "#   function to get different permutations of company name\n",
    "#   e.g. \"The Coca-Cola Company\" could also be simply referred to as \"Coca-Cola\"\n",
    "# args:\n",
    "#   symbol - ticker symbol for company\n",
    "# return:\n",
    "#   company_name - company name associated with ticker\n",
    "def get_symbol(symbol):"
   ]
  }
 ],
 "metadata": {
  "kernelspec": {
   "display_name": "Python 3",
   "language": "python",
   "name": "python3"
  },
  "language_info": {
   "codemirror_mode": {
    "name": "ipython",
    "version": 3
   },
   "file_extension": ".py",
   "mimetype": "text/x-python",
   "name": "python",
   "nbconvert_exporter": "python",
   "pygments_lexer": "ipython3",
   "version": "3.8.3"
  }
 },
 "nbformat": 4,
 "nbformat_minor": 4
}
