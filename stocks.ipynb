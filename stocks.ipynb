{
 "cells": [
  {
   "cell_type": "code",
   "execution_count": 3,
   "metadata": {},
   "outputs": [],
   "source": [
    "import json\n",
    "import urllib.request\n",
    "from bs4 import BeautifulSoup\n",
    "import pandas\n",
    "from pandas_datareader import data as pdr\n",
    "import matplotlib.pyplot as plt\n",
    "import pandas as pd"
   ]
  },
  {
   "cell_type": "code",
   "execution_count": 4,
   "metadata": {},
   "outputs": [],
   "source": [
    "# description:\n",
    "#   get tickers for the DOW 30 from the Yahoo Finance website (https://finance.yahoo.com/quote/%5EDJI/components/)\n",
    "# args:\n",
    "#   \n",
    "# return:\n",
    "#   tickers - array with all 30 tickers in the DOW 30\n",
    "def get_dow_tickers():\n",
    "    url = \"https://finance.yahoo.com/quote/%5EDJI/components/\"\n",
    "\n",
    "    # get html\n",
    "    fp = urllib.request.urlopen(url)\n",
    "    mybytes = fp.read()\n",
    "    html = mybytes.decode(\"utf8\")\n",
    "    fp.close()\n",
    "\n",
    "    # from here extract full tage from table in HTML with the tickers\n",
    "    soup = BeautifulSoup(html, features=\"lxml\")\n",
    "    tags = soup.findAll(\"a\", {\"class\": \"C($linkColor) Cur(p) Td(n) Fw(500)\"})\n",
    "\n",
    "    # get tickers from tags\n",
    "    tickers = []\n",
    "    for tag in tags:\n",
    "        tickers.append(tag.string)\n",
    "    return tickers"
   ]
  },
  {
   "cell_type": "code",
   "execution_count": 5,
   "metadata": {},
   "outputs": [],
   "source": [
    "# description:\n",
    "#   given an array of tickers and a time period return the average highs and lows over that time period\n",
    "# args:\n",
    "#   tickers - array of ticker symbols that we want to get the avg highs and lows for\n",
    "#   start - start date as a string in the form YYYY-MM-DD\n",
    "#   end - end date as a string in the form YYYY-MM-DD\n",
    "# return:\n",
    "#   avg_high - dictionary of avg high prices over the time period for each ticker with ticker as key\n",
    "#   avg_low - dictionary of avg low prices over the time period for each ticker with ticker as key\n",
    "#   data_not_available - arry containing tickers that did not have data for the given time frame \n",
    "def get_avg_prices(tickers, start, end):\n",
    "\n",
    "    avg_high = {}\n",
    "    avg_low = {}\n",
    "    data_not_available = []\n",
    "\n",
    "    # iterate through each ticker and get average high and low for each ticker\n",
    "    for ticker in tickers:\n",
    "        # try and get avg high price\n",
    "        try:\n",
    "            data = pdr.get_data_yahoo(ticker, start=start, end=end)\n",
    "            # print(data['High'].mean())\n",
    "            # print(data['Low'].mean())\n",
    "            avg_high[ticker] = data['High'].mean()\n",
    "            avg_low[ticker] = data['Low'].mean()\n",
    "        # else add ticker to data_not_available \n",
    "        except:\n",
    "            data_not_available.append(ticker)\n",
    "    return avg_high, avg_low,data_not_available\n"
   ]
  },
  {
   "cell_type": "code",
   "execution_count": null,
   "metadata": {},
   "outputs": [],
   "source": []
  }
 ],
 "metadata": {
  "kernelspec": {
   "display_name": "Python 3",
   "language": "python",
   "name": "python3"
  },
  "language_info": {
   "codemirror_mode": {
    "name": "ipython",
    "version": 3
   },
   "file_extension": ".py",
   "mimetype": "text/x-python",
   "name": "python",
   "nbconvert_exporter": "python",
   "pygments_lexer": "ipython3",
   "version": "3.8.3"
  }
 },
 "nbformat": 4,
 "nbformat_minor": 4
}
